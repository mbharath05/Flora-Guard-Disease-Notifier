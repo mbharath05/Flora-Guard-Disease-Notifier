{
  "cells": [
    {
      "cell_type": "code",
      "execution_count": null,
      "metadata": {
        "colab": {
          "base_uri": "https://localhost:8080/"
        },
        "id": "Rn3dl37LuD5y",
        "outputId": "a49badd6-0843-402f-b111-5869462f9212"
      },
      "outputs": [
        {
          "name": "stdout",
          "output_type": "stream",
          "text": [
            "Mounted at /content/drive\n"
          ]
        }
      ],
      "source": [
        "from google.colab import drive\n",
        "drive.mount('/content/drive')"
      ]
    },
    {
      "cell_type": "code",
      "execution_count": null,
      "metadata": {
        "colab": {
          "base_uri": "https://localhost:8080/"
        },
        "id": "cn9oYRE-ub7M",
        "outputId": "150afe07-f575-4486-b9d9-3bce3ef52a28"
      },
      "outputs": [
        {
          "name": "stdout",
          "output_type": "stream",
          "text": [
            "Drive already mounted at /content/drive; to attempt to forcibly remount, call drive.mount(\"/content/drive\", force_remount=True).\n"
          ]
        }
      ],
      "source": [
        "from google.colab import drive\n",
        "drive.mount('/content/drive')"
      ]
    },
    {
      "cell_type": "code",
      "execution_count": null,
      "metadata": {
        "colab": {
          "base_uri": "https://localhost:8080/"
        },
        "id": "wJ8EZRfhu-qd",
        "outputId": "f7fc4aed-268f-47d4-d0f3-75bca7812336"
      },
      "outputs": [
        {
          "name": "stdout",
          "output_type": "stream",
          "text": [
            "/content/drive/MyDrive/deep learning/Dataset Plant Disease\n"
          ]
        }
      ],
      "source": [
        "cd/content/drive/MyDrive/deep learning/Dataset Plant Disease"
      ]
    },
    {
      "cell_type": "code",
      "execution_count": null,
      "metadata": {
        "colab": {
          "base_uri": "https://localhost:8080/"
        },
        "id": "EWZ4Vwwevd7e",
        "outputId": "694a798f-8227-4f55-8407-31c8c2bb0379"
      },
      "outputs": [
        {
          "name": "stdout",
          "output_type": "stream",
          "text": [
            "\u001b[0m\u001b[01;34mfruit-dataset\u001b[0m/  \u001b[01;34mVeg-dataset\u001b[0m/\n"
          ]
        }
      ],
      "source": [
        "ls"
      ]
    },
    {
      "cell_type": "code",
      "execution_count": null,
      "metadata": {
        "colab": {
          "base_uri": "https://localhost:8080/"
        },
        "id": "v_DBa0s-v9S5",
        "outputId": "02563eae-a9a2-4a8e-981d-977cee943041"
      },
      "outputs": [
        {
          "name": "stdout",
          "output_type": "stream",
          "text": [
            "/content/drive/MyDrive/deep learning/Dataset Plant Disease/fruit-dataset/fruit-dataset/train\n"
          ]
        }
      ],
      "source": [
        "cd/content/drive/MyDrive/deep learning/Dataset Plant Disease/fruit-dataset/fruit-dataset/train"
      ]
    },
    {
      "cell_type": "code",
      "execution_count": null,
      "metadata": {
        "colab": {
          "base_uri": "https://localhost:8080/"
        },
        "id": "Uo2RbbqMwNMp",
        "outputId": "9fda4ce4-8c40-4204-fa59-6c3d03858bb5"
      },
      "outputs": [
        {
          "name": "stdout",
          "output_type": "stream",
          "text": [
            " \u001b[0m\u001b[01;34mApple___Black_rot\u001b[0m/        \u001b[01;34m'Corn_(maize)___Northern_Leaf_Blight'\u001b[0m/\n",
            " \u001b[01;34mApple___healthy\u001b[0m/           \u001b[01;34mPeach___Bacterial_spot\u001b[0m/\n",
            "\u001b[01;34m'Corn_(maize)___healthy'\u001b[0m/   \u001b[01;34mPeach___healthy\u001b[0m/\n"
          ]
        }
      ],
      "source": [
        "ls"
      ]
    },
    {
      "cell_type": "code",
      "execution_count": null,
      "metadata": {
        "id": "Vc_JqqqAwdjr"
      },
      "outputs": [],
      "source": [
        "from tensorflow.keras.preprocessing.image import ImageDataGenerator\n",
        "from tensorflow.keras.models import Sequential\n",
        "from tensorflow.keras.layers import Dense,Convolution2D,MaxPooling2D,Flatten\n",
        "import numpy as np\n",
        "from tensorflow.keras.models import load_model\n",
        "from tensorflow.keras.preprocessing import image"
      ]
    },
    {
      "cell_type": "code",
      "execution_count": null,
      "metadata": {
        "id": "x44jPy-jwhiN"
      },
      "outputs": [],
      "source": [
        "train_datagen=ImageDataGenerator(rescale=1./255,zoom_range=0.2,horizontal_flip=True,vertical_flip=False)"
      ]
    },
    {
      "cell_type": "code",
      "execution_count": null,
      "metadata": {
        "id": "koqpa--ZwnMS"
      },
      "outputs": [],
      "source": [
        "test_datagen=ImageDataGenerator(rescale=1./255)"
      ]
    },
    {
      "cell_type": "code",
      "execution_count": null,
      "metadata": {
        "colab": {
          "base_uri": "https://localhost:8080/"
        },
        "id": "7imgdpA0wqiX",
        "outputId": "0c9a314d-b639-45df-a03b-b8845322fdd5"
      },
      "outputs": [
        {
          "name": "stdout",
          "output_type": "stream",
          "text": [
            "Found 5384 images belonging to 6 classes.\n"
          ]
        }
      ],
      "source": [
        "x_train=train_datagen.flow_from_directory(r\"/content/drive/MyDrive/deep learning/Dataset Plant Disease/fruit-dataset/fruit-dataset/train\",target_size=(128,128),class_mode='categorical',batch_size=24)"
      ]
    },
    {
      "cell_type": "code",
      "execution_count": null,
      "metadata": {
        "colab": {
          "base_uri": "https://localhost:8080/"
        },
        "id": "xIQo4wskxJD7",
        "outputId": "43040ed7-9e04-4c29-e474-89a415554660"
      },
      "outputs": [
        {
          "name": "stdout",
          "output_type": "stream",
          "text": [
            "Found 1696 images belonging to 6 classes.\n"
          ]
        }
      ],
      "source": [
        "x_test=test_datagen.flow_from_directory(r\"/content/drive/MyDrive/deep learning/Dataset Plant Disease/fruit-dataset/fruit-dataset/test\",target_size=(128,128),\n",
        "                                        class_mode='categorical',batch_size=24)"
      ]
    },
    {
      "cell_type": "code",
      "execution_count": null,
      "metadata": {
        "id": "19cIf1kUxZTe"
      },
      "outputs": [],
      "source": [
        "model=Sequential()"
      ]
    },
    {
      "cell_type": "code",
      "execution_count": null,
      "metadata": {
        "id": "OSk_cZsOxjd6"
      },
      "outputs": [],
      "source": [
        "model.add(Convolution2D(32,(3,3),input_shape=(128,128,3),activation='relu'))"
      ]
    },
    {
      "cell_type": "code",
      "execution_count": null,
      "metadata": {
        "colab": {
          "base_uri": "https://localhost:8080/"
        },
        "id": "lpukAVW7xmU9",
        "outputId": "fcdfd48f-0651-408c-f3df-9817822dcf86"
      },
      "outputs": [
        {
          "name": "stdout",
          "output_type": "stream",
          "text": [
            "Model: \"sequential\"\n",
            "_________________________________________________________________\n",
            " Layer (type)                Output Shape              Param #   \n",
            "=================================================================\n",
            " conv2d (Conv2D)             (None, 126, 126, 32)      896       \n",
            "                                                                 \n",
            " max_pooling2d (MaxPooling2D  (None, 63, 63, 32)       0         \n",
            " )                                                               \n",
            "                                                                 \n",
            " flatten (Flatten)           (None, 127008)            0         \n",
            "                                                                 \n",
            "=================================================================\n",
            "Total params: 896\n",
            "Trainable params: 896\n",
            "Non-trainable params: 0\n",
            "_________________________________________________________________\n"
          ]
        }
      ],
      "source": [
        "model.add(MaxPooling2D(pool_size=(2,2)))\n",
        "model.add(Flatten())\n",
        "model.summary()"
      ]
    },
    {
      "cell_type": "code",
      "execution_count": null,
      "metadata": {
        "id": "XckmL-tzxp9a"
      },
      "outputs": [],
      "source": [
        "32*(3*3*3+1)\n",
        "model.add(Dense(300,activation='relu'))\n",
        "model.add(Dense(150,activation='relu'))"
      ]
    },
    {
      "cell_type": "code",
      "execution_count": null,
      "metadata": {
        "colab": {
          "base_uri": "https://localhost:8080/"
        },
        "id": "dbiUv7jJxtef",
        "outputId": "a5a62e4d-1165-4060-a779-827e6dfca334"
      },
      "outputs": [
        {
          "data": {
            "text/plain": [
              "225"
            ]
          },
          "execution_count": 16,
          "metadata": {},
          "output_type": "execute_result"
        }
      ],
      "source": [
        "model.add(Dense(6,activation='softmax'))\n",
        "model.compile(loss='categorical_crossentropy',optimizer='adam',metrics=['accuracy'])\n",
        "len(x_train)"
      ]
    },
    {
      "cell_type": "code",
      "execution_count": null,
      "metadata": {
        "colab": {
          "base_uri": "https://localhost:8080/"
        },
        "id": "a_NJ4TXWxzAI",
        "outputId": "46000229-9fac-4106-c10f-733d6eb58363"
      },
      "outputs": [
        {
          "name": "stdout",
          "output_type": "stream",
          "text": [
            "Epoch 1/10\n",
            "225/225 [==============================] - 2494s 11s/step - loss: 0.8810 - accuracy: 0.8085 - val_loss: 0.2312 - val_accuracy: 0.9251\n",
            "Epoch 2/10\n",
            "225/225 [==============================] - 273s 1s/step - loss: 0.2250 - accuracy: 0.9216 - val_loss: 0.1804 - val_accuracy: 0.9404\n",
            "Epoch 3/10\n",
            "225/225 [==============================] - 311s 1s/step - loss: 0.1933 - accuracy: 0.9311 - val_loss: 0.2268 - val_accuracy: 0.9192\n",
            "Epoch 4/10\n",
            "225/225 [==============================] - 261s 1s/step - loss: 0.1608 - accuracy: 0.9411 - val_loss: 0.1281 - val_accuracy: 0.9552\n",
            "Epoch 5/10\n",
            "225/225 [==============================] - 269s 1s/step - loss: 0.1232 - accuracy: 0.9586 - val_loss: 0.1585 - val_accuracy: 0.9511\n",
            "Epoch 6/10\n",
            "225/225 [==============================] - 272s 1s/step - loss: 0.1008 - accuracy: 0.9662 - val_loss: 0.1083 - val_accuracy: 0.9658\n",
            "Epoch 7/10\n",
            "225/225 [==============================] - 269s 1s/step - loss: 0.1126 - accuracy: 0.9649 - val_loss: 0.1645 - val_accuracy: 0.9528\n",
            "Epoch 8/10\n",
            "225/225 [==============================] - 261s 1s/step - loss: 0.1045 - accuracy: 0.9651 - val_loss: 0.2081 - val_accuracy: 0.9493\n",
            "Epoch 9/10\n",
            "225/225 [==============================] - 261s 1s/step - loss: 0.0904 - accuracy: 0.9705 - val_loss: 0.1283 - val_accuracy: 0.9575\n",
            "Epoch 10/10\n",
            "225/225 [==============================] - 261s 1s/step - loss: 0.0779 - accuracy: 0.9746 - val_loss: 0.1309 - val_accuracy: 0.9587\n"
          ]
        },
        {
          "data": {
            "text/plain": [
              "<keras.callbacks.History at 0x7da15e3cb370>"
            ]
          },
          "execution_count": 17,
          "metadata": {},
          "output_type": "execute_result"
        }
      ],
      "source": [
        "model.fit(x_train,steps_per_epoch=len(x_train),validation_data=x_test,validation_steps=len(x_test),epochs=10)"
      ]
    },
    {
      "cell_type": "code",
      "execution_count": null,
      "metadata": {
        "id": "iLMlaYGlFYzx"
      },
      "outputs": [],
      "source": [
        "model.save('/content/drive/MyDrive/deep learning/Dataset Plant Disease/fruit-dataset/tmp/fruitdata.h5')"
      ]
    },
    {
      "cell_type": "code",
      "execution_count": null,
      "metadata": {
        "id": "5e4_tKCSGY5M"
      },
      "outputs": [],
      "source": [
        "model=load_model('/content/drive/MyDrive/deep learning/Dataset Plant Disease/fruit-dataset/tmp/fruitdata.h5')"
      ]
    },
    {
      "cell_type": "code",
      "execution_count": null,
      "metadata": {
        "id": "AVk9B0OEGl-3"
      },
      "outputs": [],
      "source": [
        "img=image.load_img(r\"/content/drive/MyDrive/deep learning/Dataset Plant Disease/fruit-dataset/fruit-dataset/test/Peach___Bacterial_spot/005b14ab-17f0-40c3-af15-87abf7d4ac23___Rutg._Bact.S 2083.JPG\",target_size=(128,128))\n"
      ]
    },
    {
      "cell_type": "code",
      "execution_count": null,
      "metadata": {
        "colab": {
          "base_uri": "https://localhost:8080/",
          "height": 145
        },
        "id": "Y6m-PkIDHkX6",
        "outputId": "cfc181ef-5199-4688-cceb-919d4af18f7e"
      },
      "outputs": [
        {
          "data": {
            "image/png": "[encoded data removed]",
            "text/plain": [
              "<PIL.Image.Image image mode=RGB size=128x128>"
            ]
          },
          "execution_count": 27,
          "metadata": {},
          "output_type": "execute_result"
        }
      ],
      "source": [
        "img"
      ]
    },
    {
      "cell_type": "code",
      "execution_count": null,
      "metadata": {
        "id": "VN5PrKPIIR93"
      },
      "outputs": [],
      "source": [
        "x=image.img_to_array(img)"
      ]
    },
    {
      "cell_type": "code",
      "execution_count": null,
      "metadata": {
        "colab": {
          "base_uri": "https://localhost:8080/"
        },
        "id": "_mK9NjN9MTAs",
        "outputId": "ed018116-5530-4699-a952-8dfcfbab17de"
      },
      "outputs": [
        {
          "data": {
            "text/plain": [
              "array([[[119., 119., 121.],\n",
              "        [121., 121., 123.],\n",
              "        [121., 121., 123.],\n",
              "        ...,\n",
              "        [157., 152., 158.],\n",
              "        [155., 150., 156.],\n",
              "        [157., 152., 158.]],\n",
              "\n",
              "       [[127., 127., 129.],\n",
              "        [124., 124., 126.],\n",
              "        [124., 124., 126.],\n",
              "        ...,\n",
              "        [154., 149., 155.],\n",
              "        [158., 153., 159.],\n",
              "        [153., 148., 154.]],\n",
              "\n",
              "       [[126., 126., 128.],\n",
              "        [124., 124., 126.],\n",
              "        [124., 124., 126.],\n",
              "        ...,\n",
              "        [155., 150., 156.],\n",
              "        [155., 150., 156.],\n",
              "        [153., 148., 154.]],\n",
              "\n",
              "       ...,\n",
              "\n",
              "       [[ 93.,  83.,  84.],\n",
              "        [ 95.,  85.,  86.],\n",
              "        [ 87.,  77.,  78.],\n",
              "        ...,\n",
              "        [114., 109., 113.],\n",
              "        [115., 110., 114.],\n",
              "        [113., 108., 112.]],\n",
              "\n",
              "       [[ 88.,  78.,  79.],\n",
              "        [ 88.,  78.,  79.],\n",
              "        [ 89.,  79.,  80.],\n",
              "        ...,\n",
              "        [121., 116., 120.],\n",
              "        [124., 119., 123.],\n",
              "        [127., 122., 126.]],\n",
              "\n",
              "       [[ 89.,  79.,  80.],\n",
              "        [ 88.,  78.,  79.],\n",
              "        [ 89.,  79.,  80.],\n",
              "        ...,\n",
              "        [117., 112., 116.],\n",
              "        [112., 107., 111.],\n",
              "        [112., 107., 111.]]], dtype=float32)"
            ]
          },
          "execution_count": 29,
          "metadata": {},
          "output_type": "execute_result"
        }
      ],
      "source": [
        "x"
      ]
    },
    {
      "cell_type": "code",
      "execution_count": null,
      "metadata": {
        "id": "B32rB_RjMYkf"
      },
      "outputs": [],
      "source": [
        "x=np.expand_dims(x,axis=0)"
      ]
    },
    {
      "cell_type": "code",
      "execution_count": null,
      "metadata": {
        "colab": {
          "base_uri": "https://localhost:8080/"
        },
        "id": "Tsk9IY8GMbLB",
        "outputId": "c4a4cd68-ecc4-4cfd-948a-65c9e871cbcd"
      },
      "outputs": [
        {
          "data": {
            "text/plain": [
              "array([[[[119., 119., 121.],\n",
              "         [121., 121., 123.],\n",
              "         [121., 121., 123.],\n",
              "         ...,\n",
              "         [157., 152., 158.],\n",
              "         [155., 150., 156.],\n",
              "         [157., 152., 158.]],\n",
              "\n",
              "        [[127., 127., 129.],\n",
              "         [124., 124., 126.],\n",
              "         [124., 124., 126.],\n",
              "         ...,\n",
              "         [154., 149., 155.],\n",
              "         [158., 153., 159.],\n",
              "         [153., 148., 154.]],\n",
              "\n",
              "        [[126., 126., 128.],\n",
              "         [124., 124., 126.],\n",
              "         [124., 124., 126.],\n",
              "         ...,\n",
              "         [155., 150., 156.],\n",
              "         [155., 150., 156.],\n",
              "         [153., 148., 154.]],\n",
              "\n",
              "        ...,\n",
              "\n",
              "        [[ 93.,  83.,  84.],\n",
              "         [ 95.,  85.,  86.],\n",
              "         [ 87.,  77.,  78.],\n",
              "         ...,\n",
              "         [114., 109., 113.],\n",
              "         [115., 110., 114.],\n",
              "         [113., 108., 112.]],\n",
              "\n",
              "        [[ 88.,  78.,  79.],\n",
              "         [ 88.,  78.,  79.],\n",
              "         [ 89.,  79.,  80.],\n",
              "         ...,\n",
              "         [121., 116., 120.],\n",
              "         [124., 119., 123.],\n",
              "         [127., 122., 126.]],\n",
              "\n",
              "        [[ 89.,  79.,  80.],\n",
              "         [ 88.,  78.,  79.],\n",
              "         [ 89.,  79.,  80.],\n",
              "         ...,\n",
              "         [117., 112., 116.],\n",
              "         [112., 107., 111.],\n",
              "         [112., 107., 111.]]]], dtype=float32)"
            ]
          },
          "execution_count": 31,
          "metadata": {},
          "output_type": "execute_result"
        }
      ],
      "source": [
        "x"
      ]
    },
    {
      "cell_type": "code",
      "execution_count": null,
      "metadata": {
        "colab": {
          "base_uri": "https://localhost:8080/"
        },
        "id": "NruBLQoEMek2",
        "outputId": "5bf9d163-ee6f-49e1-d427-a91127d3167a"
      },
      "outputs": [
        {
          "name": "stdout",
          "output_type": "stream",
          "text": [
            "1/1 [==============================] - 0s 297ms/step\n"
          ]
        }
      ],
      "source": [
        "y=np.argmax(model.predict(x),axis=1)"
      ]
    },
    {
      "cell_type": "code",
      "execution_count": null,
      "metadata": {
        "colab": {
          "base_uri": "https://localhost:8080/"
        },
        "id": "MAXjaagzMgOw",
        "outputId": "0fa221c3-ed0c-4f5e-e44b-878c0fdc5054"
      },
      "outputs": [
        {
          "data": {
            "text/plain": [
              "{'Apple___Black_rot': 0,\n",
              " 'Apple___healthy': 1,\n",
              " 'Corn_(maize)___Northern_Leaf_Blight': 2,\n",
              " 'Corn_(maize)___healthy': 3,\n",
              " 'Peach___Bacterial_spot': 4,\n",
              " 'Peach___healthy': 5}"
            ]
          },
          "execution_count": 33,
          "metadata": {},
          "output_type": "execute_result"
        }
      ],
      "source": [
        "x_train.class_indices"
      ]
    },
    {
      "cell_type": "code",
      "execution_count": null,
      "metadata": {
        "id": "HSrcxa5fMjP_"
      },
      "outputs": [],
      "source": [
        "index=['Apple___Black_rot','Apple___healthy','Corn_(maize)___Northern_Leaf_Blight','Corn_(maize)___healthy','Peach___Bacterial_spot','Peach___healthy']"
      ]
    },
    {
      "cell_type": "code",
      "execution_count": null,
      "metadata": {
        "colab": {
          "base_uri": "https://localhost:8080/",
          "height": 35
        },
        "id": "9rTy-H0eMokn",
        "outputId": "f00d1fb6-46d5-4103-9348-2ddd93b9fb78"
      },
      "outputs": [
        {
          "data": {
            "application/vnd.google.colaboratory.intrinsic+json": {
              "type": "string"
            },
            "text/plain": [
              "'Peach___Bacterial_spot'"
            ]
          },
          "execution_count": 35,
          "metadata": {},
          "output_type": "execute_result"
        }
      ],
      "source": [
        "index[y[0]]"
      ]
    },
    {
      "cell_type": "code",
      "execution_count": null,
      "metadata": {
        "colab": {
          "base_uri": "https://localhost:8080/",
          "height": 53
        },
        "id": "d4_gNf67Mrtw",
        "outputId": "ef5bf6e7-48fd-4010-dc5d-1758d8949c38"
      },
      "outputs": [
        {
          "name": "stdout",
          "output_type": "stream",
          "text": [
            "1/1 [==============================] - 0s 71ms/step\n"
          ]
        },
        {
          "data": {
            "application/vnd.google.colaboratory.intrinsic+json": {
              "type": "string"
            },
            "text/plain": [
              "'Peach___Bacterial_spot'"
            ]
          },
          "execution_count": 36,
          "metadata": {},
          "output_type": "execute_result"
        }
      ],
      "source": [
        "img=image.load_img(r\"/content/drive/MyDrive/deep learning/Dataset Plant Disease/fruit-dataset/fruit-dataset/test/Peach___Bacterial_spot/005b14ab-17f0-40c3-af15-87abf7d4ac23___Rutg._Bact.S 2083.JPG\",target_size=(128,128))\n",
        "x=image.img_to_array(img)\n",
        "x=np.expand_dims(x,axis=0)\n",
        "y=np.argmax(model.predict(x),axis=1)\n",
        "index=['Apple___Black_rot','Apple___healthy','Corn_(maize)___Northern_Leaf_Blight','Corn_(maize)___healthy','Peach___Bacterial_spot','Peach___healthy']\n",
        "index[y[0]]"
      ]
    }
  ],
  "metadata": {
    "colab": {
      "provenance": [],
      "toc_visible": true
    },
    "kernelspec": {
      "display_name": "Python 3",
      "name": "python3"
    },
    "language_info": {
      "name": "python"
    }
  },
  "nbformat": 4,
  "nbformat_minor": 0
}
